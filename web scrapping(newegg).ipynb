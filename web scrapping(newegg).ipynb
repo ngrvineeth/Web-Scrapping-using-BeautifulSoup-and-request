{
 "cells": [
  {
   "cell_type": "code",
   "execution_count": 11,
   "metadata": {},
   "outputs": [],
   "source": [
    "import bs4\n",
    "from urllib.request import urlopen as uReq\n",
    "from bs4 import BeautifulSoup as soup"
   ]
  },
  {
   "cell_type": "code",
   "execution_count": 12,
   "metadata": {},
   "outputs": [],
   "source": [
    "my_url=\"https://www.newegg.com/Video-Cards-Video-Devices/Category/ID-38?Tpk=graphic%20cards\""
   ]
  },
  {
   "cell_type": "code",
   "execution_count": 13,
   "metadata": {},
   "outputs": [],
   "source": [
    "uClient=uReq(my_url)\n",
    "page_html=uClient.read()\n",
    "uClient.close()\n",
    "page_soup=soup(page_html,\"html.parser\")"
   ]
  },
  {
   "cell_type": "code",
   "execution_count": 14,
   "metadata": {},
   "outputs": [
    {
     "data": {
      "text/plain": [
       "<h1 class=\"page-title-text\">Video Cards &amp; Video Devices</h1>"
      ]
     },
     "execution_count": 14,
     "metadata": {},
     "output_type": "execute_result"
    }
   ],
   "source": [
    "page_soup.h1"
   ]
  },
  {
   "cell_type": "code",
   "execution_count": 15,
   "metadata": {},
   "outputs": [
    {
     "data": {
      "text/plain": [
       "<p>Newegg.com - A great place to buy computers, computer parts, electronics, software, accessories, and DVDs online. With great prices, fast shipping, and top-rated customer service - Newegg shopping upgraded ™</p>"
      ]
     },
     "execution_count": 15,
     "metadata": {},
     "output_type": "execute_result"
    }
   ],
   "source": [
    "page_soup.p"
   ]
  },
  {
   "cell_type": "code",
   "execution_count": 17,
   "metadata": {},
   "outputs": [],
   "source": [
    "containers=page_soup.findAll(\"div\",{\"class\":\"item-container\"})\n",
    "container=containers[0]"
   ]
  },
  {
   "cell_type": "code",
   "execution_count": 18,
   "metadata": {},
   "outputs": [
    {
     "name": "stdout",
     "output_type": "stream",
     "text": [
      "Brand: GIGABYTE\n",
      "Product_name: GIGABYTE Radeon RX 5700 XT GAMING OC 8G Graphics Card, GV-R57XTGAMING OC-8GD\n",
      "shipping: Free Shipping\n",
      "Brand: MSI\n",
      "Product_name: MSI GeForce GTX 1660 SUPER DirectX 12 GTX 1660 SUPER VENTUS XS OC Video Card\n",
      "shipping: Free Shipping\n",
      "Brand: EVGA\n",
      "Product_name: EVGA GeForce GTX 1660 Ti SC ULTRA GAMING, 06G-P4-1667-KR, 6GB GDDR6, Dual Fan, Metal Backplate\n",
      "shipping: Free Shipping\n",
      "Brand: ASUS\n",
      "Product_name: ASUS ROG Strix Radeon RX 5700 XT ROG-STRIX-RX5700XT-O8G-GAMING Video Card\n",
      "shipping: Free Shipping\n",
      "Brand: MSI\n",
      "Product_name: MSI GeForce RTX 2060 DirectX 12 RTX 2060 VENTUS XS 6G OC Video Card\n",
      "shipping: Free Shipping\n",
      "Brand: Sapphire Tech\n",
      "Product_name: SAPPHIRE PULSE Radeon RX 5600 XT DirectX 12 100419P6GL Video Card\n",
      "shipping: $3.99 Shipping\n",
      "Brand: EVGA\n",
      "Product_name: EVGA GeForce GTX 1660 XC GAMING, 06G-P4-1163-KR, 6GB GDDR5, HDB Fan\n",
      "shipping: Free Shipping\n",
      "Brand: ASRock\n",
      "Product_name: ASRock Phantom Gaming D Radeon RX 570 DirectX 12 RX570 8G OC Video Card\n",
      "shipping: Free Shipping\n",
      "Brand: ASUS\n",
      "Product_name: ASUS TUF Gaming X3 GeForce GTX 1660 SUPER DirectX 12 TUF 3-GTX1660S-O6G-GAMING Video Card\n",
      "shipping: $4.99 Shipping\n",
      "Brand: GIGABYTE\n",
      "Product_name: GIGABYTE Radeon RX 5700 XT DirectX 12 GV-R57XTGAMING-8GD Video Card\n",
      "shipping: Free Shipping\n",
      "Brand: XFX\n",
      "Product_name: XFX Radeon RX 5600 XT RX-56XT6DF46 Video Card THICC II PRO-14GBPS 6GB BOOST UP TO 1620M D6  3xDP HDMI\n",
      "shipping: $3.99 Shipping\n",
      "Brand: Sapphire Tech\n",
      "Product_name: SAPPHIRE PULSE Radeon RX 5500 XT DirectX 12 100418P4GL Video Card\n",
      "shipping: $3.99 Shipping\n"
     ]
    }
   ],
   "source": [
    "file=\"product.csv\"\n",
    "f=open(file,'w')\n",
    "header=\"Brand, Product_name, Shipping\\n\"\n",
    "f.write(header)\n",
    "for container in containers:\n",
    "    brands=container.findAll(\"div\",{\"class\":\"item-info\"})\n",
    "    brand=brands[0].a.img['title']\n",
    "    item_names=container.findAll(\"a\",{\"class\":\"item-title\"})\n",
    "    product_name=item_names[0].text\n",
    "    shipping=container.findAll(\"li\",class_=\"price-ship\")\n",
    "    ship_price=shipping[0].text.strip()\n",
    "    print(\"Brand: \"+brand)\n",
    "    print(\"Product_name: \"+product_name)\n",
    "    print(\"shipping: \"+ship_price)\n",
    "    f.write(brand+\",\"+product_name.replace(\",\",\"|\")+\",\"+ship_price+\"\\n\")\n",
    "f.close()\n",
    "    "
   ]
  }
 ],
 "metadata": {
  "kernelspec": {
   "display_name": "Python 3",
   "language": "python",
   "name": "python3"
  },
  "language_info": {
   "codemirror_mode": {
    "name": "ipython",
    "version": 3
   },
   "file_extension": ".py",
   "mimetype": "text/x-python",
   "name": "python",
   "nbconvert_exporter": "python",
   "pygments_lexer": "ipython3",
   "version": "3.7.3"
  }
 },
 "nbformat": 4,
 "nbformat_minor": 2
}
